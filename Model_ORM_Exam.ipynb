{
 "cells": [
  {
   "cell_type": "code",
   "execution_count": 1,
   "id": "60c95974",
   "metadata": {},
   "outputs": [],
   "source": [
    "# django shell 기능을 jupyter notebook을 이용해 작업\n",
    "#  - django 프로젝트 ROOT 디렉토리에서 주피터노트북을 실행\n",
    "#  - jupyter notebook에서 django shell을 사용하기 위해서 환경설정\n",
    "import os\n",
    "os.environ['DJANGO_SETTINGS_MODULE'] = 'config.settings'  # root/config/settings.py 경로 지정.\n",
    "os.environ['DJANGO_ALLOW_ASYNC_UNSAFE'] = 'true'\n",
    "\n",
    "import django\n",
    "django.setup()"
   ]
  },
  {
   "cell_type": "code",
   "execution_count": 2,
   "id": "ee85ec47",
   "metadata": {},
   "outputs": [],
   "source": [
    "from poll.models import Question, Choice"
   ]
  },
  {
   "cell_type": "code",
   "execution_count": 3,
   "id": "bc74d46c",
   "metadata": {},
   "outputs": [
    {
     "name": "stdout",
     "output_type": "stream",
     "text": [
      "<class 'django.db.models.manager.Manager'>\n"
     ]
    }
   ],
   "source": [
    "mm = Question.objects\n",
    "print(type(mm))"
   ]
  },
  {
   "cell_type": "code",
   "execution_count": 4,
   "id": "2e2ec5d5",
   "metadata": {
    "scrolled": true
   },
   "outputs": [
    {
     "data": {
      "text/plain": [
       "<QuerySet [<Question: 좋아하는 색깔은 무엇입니까?>, <Question: 좋아하는 동물은 무엇입니까?>, <Question: 가고 싶은 나라를 선택하세요.>, <Question: 싫어하는 동물은 무엇입니까?>, <Question: 어떤 프로그램 언어를 사용하십니까?>, <Question: 선호하는 카페 브랜드는 어디인가요?>, <Question: 선호하는 음식종류는 무엇입니까?>]>"
      ]
     },
     "execution_count": 4,
     "metadata": {},
     "output_type": "execute_result"
    }
   ],
   "source": [
    "mm.all()"
   ]
  },
  {
   "cell_type": "markdown",
   "id": "056ca12a",
   "metadata": {},
   "source": [
    "모델클래스.objects.SQL메소드()\\[.SQL메소드()...\\]"
   ]
  },
  {
   "cell_type": "markdown",
   "id": "c0c26bbb",
   "metadata": {},
   "source": [
    "# 조회(select)\n",
    "\n",
    "- ### all(): 전체조회"
   ]
  },
  {
   "cell_type": "code",
   "execution_count": 4,
   "id": "b47502aa",
   "metadata": {},
   "outputs": [
    {
     "name": "stdout",
     "output_type": "stream",
     "text": [
      "<class 'django.db.models.query.QuerySet'>\n",
      "SELECT \"poll_question\".\"id\", \"poll_question\".\"question_text\", \"poll_question\".\"pub_date\" FROM \"poll_question\"\n"
     ]
    }
   ],
   "source": [
    "qs = Question.objects.all() #select * from question \n",
    "#조회결과는 QuerySet 객체 반환\n",
    "# QuestSet - 조회결과를 조회, 추가 SQL문을 실행\n",
    "print(type(qs))\n",
    "print(qs.query)  #실행된 sql문을 조회"
   ]
  },
  {
   "cell_type": "code",
   "execution_count": 5,
   "id": "1391264c",
   "metadata": {},
   "outputs": [
    {
     "data": {
      "text/plain": [
       "<QuerySet [<Question: 좋아하는 색깔은 무엇입니까?>, <Question: 좋아하는 동물은 무엇입니까?>, <Question: 가고 싶은 나라를 선택하세요.>, <Question: 싫어하는 동물은 무엇입니까?>, <Question: 어떤 프로그램 언어를 사용하십니까?>, <Question: 선호하는 카페 브랜드는 어디인가요?>, <Question: 선호하는 음식종류는 무엇입니까?>]>"
      ]
     },
     "execution_count": 5,
     "metadata": {},
     "output_type": "execute_result"
    }
   ],
   "source": [
    "qs #iterable"
   ]
  },
  {
   "cell_type": "code",
   "execution_count": 6,
   "id": "9c153724",
   "metadata": {},
   "outputs": [
    {
     "name": "stdout",
     "output_type": "stream",
     "text": [
      "<class 'poll.models.Question'> 좋아하는 색깔은 무엇입니까? -- 좋아하는 색깔은 무엇입니까? 2021-10-05 08:17:22.862005+00:00 1 1\n",
      "<class 'poll.models.Question'> 좋아하는 동물은 무엇입니까? -- 좋아하는 동물은 무엇입니까? 2021-10-05 08:17:44.509702+00:00 2 2\n",
      "<class 'poll.models.Question'> 가고 싶은 나라를 선택하세요. -- 가고 싶은 나라를 선택하세요. 2021-10-05 08:17:54.306889+00:00 3 3\n",
      "<class 'poll.models.Question'> 싫어하는 동물은 무엇입니까? -- 싫어하는 동물은 무엇입니까? 2021-10-05 08:18:04.281262+00:00 4 4\n",
      "<class 'poll.models.Question'> 어떤 프로그램 언어를 사용하십니까? -- 어떤 프로그램 언어를 사용하십니까? 2021-10-05 08:42:10.877559+00:00 6 6\n",
      "<class 'poll.models.Question'> 선호하는 카페 브랜드는 어디인가요? -- 선호하는 카페 브랜드는 어디인가요? 2021-10-05 08:42:22.745516+00:00 7 7\n",
      "<class 'poll.models.Question'> 선호하는 음식종류는 무엇입니까? -- 선호하는 음식종류는 무엇입니까? 2021-10-05 08:47:03.943094+00:00 8 8\n"
     ]
    }
   ],
   "source": [
    "for m in qs:\n",
    "    print(type(m), m, \"--\", m.question_text, m.pub_date, m.id, m.pk) #model.pk : primary 컬럼의 값을 조회"
   ]
  },
  {
   "cell_type": "code",
   "execution_count": 7,
   "id": "5ddcb42a",
   "metadata": {},
   "outputs": [],
   "source": [
    "# QuerySet: iterable - 반복문으로 조회, indexing, slicing"
   ]
  },
  {
   "cell_type": "code",
   "execution_count": 8,
   "id": "2d4e7174",
   "metadata": {},
   "outputs": [
    {
     "name": "stdout",
     "output_type": "stream",
     "text": [
      "id: 3 ,등록일시 2021-10-05 08:17:54.306889+00:00 ,질문: 가고 싶은 나라를 선택하세요.\n"
     ]
    }
   ],
   "source": [
    "qs[2]\n",
    "print(\"id:\", qs[2].pk, \",등록일시\", qs[2].pub_date, \",질문:\", qs[2].question_text)"
   ]
  },
  {
   "cell_type": "code",
   "execution_count": 9,
   "id": "38ee204e",
   "metadata": {},
   "outputs": [],
   "source": [
    "# 음수  indexing은 지원안한다.\n",
    "# qs[-1]"
   ]
  },
  {
   "cell_type": "code",
   "execution_count": 10,
   "id": "7f6b5d7d",
   "metadata": {},
   "outputs": [
    {
     "data": {
      "text/plain": [
       "[<Question: 가고 싶은 나라를 선택하세요.>,\n",
       " <Question: 싫어하는 동물은 무엇입니까?>,\n",
       " <Question: 어떤 프로그램 언어를 사용하십니까?>]"
      ]
     },
     "execution_count": 10,
     "metadata": {},
     "output_type": "execute_result"
    }
   ],
   "source": [
    "qs[2:5]"
   ]
  },
  {
   "cell_type": "code",
   "execution_count": 11,
   "id": "0175ce42",
   "metadata": {},
   "outputs": [
    {
     "data": {
      "text/plain": [
       "[<Question: 좋아하는 색깔은 무엇입니까?>,\n",
       " <Question: 가고 싶은 나라를 선택하세요.>,\n",
       " <Question: 어떤 프로그램 언어를 사용하십니까?>,\n",
       " <Question: 선호하는 음식종류는 무엇입니까?>]"
      ]
     },
     "execution_count": 11,
     "metadata": {},
     "output_type": "execute_result"
    }
   ],
   "source": [
    "qs[::2]"
   ]
  },
  {
   "cell_type": "code",
   "execution_count": 12,
   "id": "b9d43b16",
   "metadata": {},
   "outputs": [
    {
     "data": {
      "text/plain": [
       "<Question: 좋아하는 색깔은 무엇입니까?>"
      ]
     },
     "execution_count": 12,
     "metadata": {},
     "output_type": "execute_result"
    }
   ],
   "source": [
    "qs.first()# 조회결과중 첫번째 것 반환"
   ]
  },
  {
   "cell_type": "code",
   "execution_count": 13,
   "id": "addefd8f",
   "metadata": {},
   "outputs": [
    {
     "data": {
      "text/plain": [
       "<Question: 선호하는 음식종류는 무엇입니까?>"
      ]
     },
     "execution_count": 13,
     "metadata": {},
     "output_type": "execute_result"
    }
   ],
   "source": [
    "qs.last()# 조회결과중 마지막 것 반환"
   ]
  },
  {
   "cell_type": "markdown",
   "id": "4fb6e119",
   "metadata": {},
   "source": [
    "## where 절이용한 조회\n",
    "조회조건이 있는 조회\n",
    "- filter(조회조건): 조건을 만족하는 행이 0개 이상일 경우\n",
    "- exclude(조회조건): filter()반대. 조건을 만족하지 않는 0개이상의 행들을 조회\n",
    "- get(조회조건): 조회조건을 만족하는 1개 행 조회. PK 로 조회할 때 사용. 조회결과가 0개이거나 2개 이상인 경우 Exception 발생.\n",
    "- filter/exclude() 반환타입: QuerySet\n",
    "- get() 반환타입: Model객체 반환"
   ]
  },
  {
   "cell_type": "code",
   "execution_count": 14,
   "id": "c353c406",
   "metadata": {},
   "outputs": [
    {
     "data": {
      "text/plain": [
       "(2,\n",
       " '좋아하는 동물은 무엇입니까?',\n",
       " datetime.datetime(2021, 10, 5, 8, 17, 44, 509702, tzinfo=<UTC>))"
      ]
     },
     "execution_count": 14,
     "metadata": {},
     "output_type": "execute_result"
    }
   ],
   "source": [
    "# pk(id) = 2\n",
    "qs = Question.objects.filter(id=2)\n",
    "r = qs.first()\n",
    "r.id, r.question_text, r.pub_date\n",
    "# qs.id"
   ]
  },
  {
   "cell_type": "code",
   "execution_count": 15,
   "id": "778eeddd",
   "metadata": {},
   "outputs": [
    {
     "name": "stdout",
     "output_type": "stream",
     "text": [
      "<class 'poll.models.Question'>\n"
     ]
    },
    {
     "data": {
      "text/plain": [
       "(2, '좋아하는 동물은 무엇입니까?')"
      ]
     },
     "execution_count": 15,
     "metadata": {},
     "output_type": "execute_result"
    }
   ],
   "source": [
    "question = Question.objects.get(pk=2)\n",
    "print(type(question))\n",
    "question.pk, question.question_text"
   ]
  },
  {
   "cell_type": "code",
   "execution_count": 16,
   "id": "bd13c46b",
   "metadata": {},
   "outputs": [
    {
     "name": "stdout",
     "output_type": "stream",
     "text": [
      "SELECT \"poll_question\".\"id\", \"poll_question\".\"question_text\", \"poll_question\".\"pub_date\" FROM \"poll_question\" WHERE NOT (\"poll_question\".\"id\" = 2)\n"
     ]
    },
    {
     "data": {
      "text/plain": [
       "<QuerySet [<Question: 좋아하는 색깔은 무엇입니까?>, <Question: 가고 싶은 나라를 선택하세요.>, <Question: 싫어하는 동물은 무엇입니까?>, <Question: 어떤 프로그램 언어를 사용하십니까?>, <Question: 선호하는 카페 브랜드는 어디인가요?>, <Question: 선호하는 음식종류는 무엇입니까?>]>"
      ]
     },
     "execution_count": 16,
     "metadata": {},
     "output_type": "execute_result"
    }
   ],
   "source": [
    "qs = Question.objects.exclude(pk=2)  # where pk <> 2\n",
    "print(qs.query)\n",
    "qs"
   ]
  },
  {
   "cell_type": "code",
   "execution_count": 17,
   "id": "45518886",
   "metadata": {},
   "outputs": [
    {
     "name": "stdout",
     "output_type": "stream",
     "text": [
      "id가 100인 질문은 없습니다.\n"
     ]
    }
   ],
   "source": [
    "try:\n",
    "    q = Question.objects.get(pk=100) #없는 것 조회: DoesNotExist Exception발생\n",
    "#     추가작업\n",
    "except:\n",
    "    print(\"id가 100인 질문은 없습니다.\")"
   ]
  },
  {
   "cell_type": "code",
   "execution_count": 18,
   "id": "6f4e2681",
   "metadata": {},
   "outputs": [
    {
     "data": {
      "text/plain": [
       "<QuerySet []>"
      ]
     },
     "execution_count": 18,
     "metadata": {},
     "output_type": "execute_result"
    }
   ],
   "source": [
    "Question.objects.filter(pk=100) "
   ]
  },
  {
   "cell_type": "code",
   "execution_count": 19,
   "id": "798aee7e",
   "metadata": {},
   "outputs": [
    {
     "ename": "MultipleObjectsReturned",
     "evalue": "get() returned more than one Question -- it returned 6!",
     "output_type": "error",
     "traceback": [
      "\u001b[1;31m---------------------------------------------------------------------------\u001b[0m",
      "\u001b[1;31mMultipleObjectsReturned\u001b[0m                   Traceback (most recent call last)",
      "\u001b[1;32m~\\AppData\\Local\\Temp/ipykernel_9124/3003993752.py\u001b[0m in \u001b[0;36m<module>\u001b[1;34m\u001b[0m\n\u001b[1;32m----> 1\u001b[1;33m \u001b[0mq\u001b[0m \u001b[1;33m=\u001b[0m \u001b[0mQuestion\u001b[0m\u001b[1;33m.\u001b[0m\u001b[0mobjects\u001b[0m\u001b[1;33m.\u001b[0m\u001b[0mget\u001b[0m\u001b[1;33m(\u001b[0m\u001b[0mpk__gt\u001b[0m\u001b[1;33m=\u001b[0m\u001b[1;36m1\u001b[0m\u001b[1;33m)\u001b[0m  \u001b[1;31m#where pk > 1 : 1개 이상이 조회되는 경우 get()-MultipleObjectsReturned Exception 발생\u001b[0m\u001b[1;33m\u001b[0m\u001b[1;33m\u001b[0m\u001b[0m\n\u001b[0m",
      "\u001b[1;32m~\\anaconda3\\envs\\django\\lib\\site-packages\\django\\db\\models\\manager.py\u001b[0m in \u001b[0;36mmanager_method\u001b[1;34m(self, *args, **kwargs)\u001b[0m\n\u001b[0;32m     83\u001b[0m         \u001b[1;32mdef\u001b[0m \u001b[0mcreate_method\u001b[0m\u001b[1;33m(\u001b[0m\u001b[0mname\u001b[0m\u001b[1;33m,\u001b[0m \u001b[0mmethod\u001b[0m\u001b[1;33m)\u001b[0m\u001b[1;33m:\u001b[0m\u001b[1;33m\u001b[0m\u001b[1;33m\u001b[0m\u001b[0m\n\u001b[0;32m     84\u001b[0m             \u001b[1;32mdef\u001b[0m \u001b[0mmanager_method\u001b[0m\u001b[1;33m(\u001b[0m\u001b[0mself\u001b[0m\u001b[1;33m,\u001b[0m \u001b[1;33m*\u001b[0m\u001b[0margs\u001b[0m\u001b[1;33m,\u001b[0m \u001b[1;33m**\u001b[0m\u001b[0mkwargs\u001b[0m\u001b[1;33m)\u001b[0m\u001b[1;33m:\u001b[0m\u001b[1;33m\u001b[0m\u001b[1;33m\u001b[0m\u001b[0m\n\u001b[1;32m---> 85\u001b[1;33m                 \u001b[1;32mreturn\u001b[0m \u001b[0mgetattr\u001b[0m\u001b[1;33m(\u001b[0m\u001b[0mself\u001b[0m\u001b[1;33m.\u001b[0m\u001b[0mget_queryset\u001b[0m\u001b[1;33m(\u001b[0m\u001b[1;33m)\u001b[0m\u001b[1;33m,\u001b[0m \u001b[0mname\u001b[0m\u001b[1;33m)\u001b[0m\u001b[1;33m(\u001b[0m\u001b[1;33m*\u001b[0m\u001b[0margs\u001b[0m\u001b[1;33m,\u001b[0m \u001b[1;33m**\u001b[0m\u001b[0mkwargs\u001b[0m\u001b[1;33m)\u001b[0m\u001b[1;33m\u001b[0m\u001b[1;33m\u001b[0m\u001b[0m\n\u001b[0m\u001b[0;32m     86\u001b[0m             \u001b[0mmanager_method\u001b[0m\u001b[1;33m.\u001b[0m\u001b[0m__name__\u001b[0m \u001b[1;33m=\u001b[0m \u001b[0mmethod\u001b[0m\u001b[1;33m.\u001b[0m\u001b[0m__name__\u001b[0m\u001b[1;33m\u001b[0m\u001b[1;33m\u001b[0m\u001b[0m\n\u001b[0;32m     87\u001b[0m             \u001b[0mmanager_method\u001b[0m\u001b[1;33m.\u001b[0m\u001b[0m__doc__\u001b[0m \u001b[1;33m=\u001b[0m \u001b[0mmethod\u001b[0m\u001b[1;33m.\u001b[0m\u001b[0m__doc__\u001b[0m\u001b[1;33m\u001b[0m\u001b[1;33m\u001b[0m\u001b[0m\n",
      "\u001b[1;32m~\\anaconda3\\envs\\django\\lib\\site-packages\\django\\db\\models\\query.py\u001b[0m in \u001b[0;36mget\u001b[1;34m(self, *args, **kwargs)\u001b[0m\n\u001b[0;32m    437\u001b[0m                 \u001b[0mself\u001b[0m\u001b[1;33m.\u001b[0m\u001b[0mmodel\u001b[0m\u001b[1;33m.\u001b[0m\u001b[0m_meta\u001b[0m\u001b[1;33m.\u001b[0m\u001b[0mobject_name\u001b[0m\u001b[1;33m\u001b[0m\u001b[1;33m\u001b[0m\u001b[0m\n\u001b[0;32m    438\u001b[0m             )\n\u001b[1;32m--> 439\u001b[1;33m         raise self.model.MultipleObjectsReturned(\n\u001b[0m\u001b[0;32m    440\u001b[0m             'get() returned more than one %s -- it returned %s!' % (\n\u001b[0;32m    441\u001b[0m                 \u001b[0mself\u001b[0m\u001b[1;33m.\u001b[0m\u001b[0mmodel\u001b[0m\u001b[1;33m.\u001b[0m\u001b[0m_meta\u001b[0m\u001b[1;33m.\u001b[0m\u001b[0mobject_name\u001b[0m\u001b[1;33m,\u001b[0m\u001b[1;33m\u001b[0m\u001b[1;33m\u001b[0m\u001b[0m\n",
      "\u001b[1;31mMultipleObjectsReturned\u001b[0m: get() returned more than one Question -- it returned 6!"
     ]
    }
   ],
   "source": [
    "q = Question.objects.get(pk__gt=1)  #where pk > 1 : 1개 이상이 조회되는 경우 get()-MultipleObjectsReturned Exception 발생"
   ]
  },
  {
   "cell_type": "code",
   "execution_count": null,
   "id": "71a084b3",
   "metadata": {},
   "outputs": [],
   "source": [
    "# 조회조건\n",
    "qs = Question.objects.filter(pk__lt=3) # pk < 3\n",
    "qs = Question.objects.filter(pk__lte=3)# pk <= 3\n",
    "qs = Question.objects.filter(pk__gt=3) # pk > 3\n",
    "qs = Question.objects.filter(pk__gte=3)# pk >= 3\n",
    "qs = Question.objects.filter(pk__in=[1,4,6]) # pk in (1, 4, 6)\n",
    "qs = Question.objects.filter(pk__range=[2,5]) # pk between 2 and 5\n",
    "qs = Question.objects.filter(question_text__startswith=\"좋아하는\") #question_text like '좋아하는%'  좋아하는 으로 시작하는 \n",
    "qs = Question.objects.filter(question_text__endswith='무엇입니까?') #question_text like '%무엇입니까?' 무엇입니까로 끝나는\n",
    "qs = Question.objects.filter(question_text__contains='동물')  #question_text like '%동물%' 동물이 들어간\n",
    "print(qs.query)\n",
    "for m in qs:\n",
    "    print(m.pk, m.question_text)"
   ]
  },
  {
   "cell_type": "markdown",
   "id": "f33ce876",
   "metadata": {},
   "source": [
    "### AND 로 조건을 묶는 경우\n",
    "- 조회함수들의 매개변수에 조건들을 나열해 준다."
   ]
  },
  {
   "cell_type": "code",
   "execution_count": 20,
   "id": "3a06c432",
   "metadata": {},
   "outputs": [
    {
     "name": "stdout",
     "output_type": "stream",
     "text": [
      "SELECT \"poll_question\".\"id\", \"poll_question\".\"question_text\", \"poll_question\".\"pub_date\" FROM \"poll_question\" WHERE (\"poll_question\".\"id\" = 2 AND \"poll_question\".\"question_text\" LIKE 좋아하는% ESCAPE '\\')\n",
      "2 좋아하는 동물은 무엇입니까?\n"
     ]
    }
   ],
   "source": [
    "# pk=2 and q_text가 \"좋아하는으로 시작\" \n",
    "qs = Question.objects.filter(pk=2, question_text__startswith='좋아하는')\n",
    "\n",
    "print(qs.query)\n",
    "for m in qs:\n",
    "    print(m.pk, m.question_text)"
   ]
  },
  {
   "cell_type": "markdown",
   "id": "3652bd2a",
   "metadata": {},
   "source": [
    "## OR 로 조건들을 묶는 경우\n",
    "- 개별 조건을 Q()에 넣고 `|` 사용"
   ]
  },
  {
   "cell_type": "code",
   "execution_count": 21,
   "id": "8cc56ff2",
   "metadata": {},
   "outputs": [
    {
     "name": "stdout",
     "output_type": "stream",
     "text": [
      "SELECT \"poll_question\".\"id\", \"poll_question\".\"question_text\", \"poll_question\".\"pub_date\" FROM \"poll_question\" WHERE (\"poll_question\".\"id\" < 3 OR NOT (\"poll_question\".\"question_text\" LIKE %어디인가요? ESCAPE '\\'))\n",
      "1 좋아하는 색깔은 무엇입니까?\n",
      "2 좋아하는 동물은 무엇입니까?\n",
      "3 가고 싶은 나라를 선택하세요.\n",
      "4 싫어하는 동물은 무엇입니까?\n",
      "6 어떤 프로그램 언어를 사용하십니까?\n",
      "8 선호하는 음식종류는 무엇입니까?\n"
     ]
    }
   ],
   "source": [
    "# pk<3 or question_text like '%어디인가요?'\n",
    "from django.db.models import Q\n",
    "\n",
    "# qs = Question.objects.filter(Q(pk__lt=3) | Q(question_text__endswith='어디인가요?'))\n",
    "qs = Question.objects.filter(Q(pk__lt=3) | ~Q(question_text__endswith='어디인가요?'))  #~ : not\n",
    "\n",
    "print(qs.query)\n",
    "for m in qs:\n",
    "    print(m.pk, m.question_text)"
   ]
  },
  {
   "cell_type": "markdown",
   "id": "bc53e7a5",
   "metadata": {},
   "source": [
    "## 컬럼선택, 정렬\n",
    "- values(조회할컬럼변수나열): 컬럼 선택\n",
    "    - 조회한 데이터를 dictionary에 넣어서 반환. QuerySet[{},{}]\n",
    "- order_by(기준컬럼): 정렬-ASC(기본)  \"-컬럼명\": DESC"
   ]
  },
  {
   "cell_type": "code",
   "execution_count": 22,
   "id": "91ba9b2b",
   "metadata": {},
   "outputs": [
    {
     "data": {
      "text/plain": [
       "<QuerySet [<Choice: 검정색>, <Choice: 빨강색>, <Choice: 파랑색>, <Choice: 초록색>, <Choice: 녹색>, <Choice: 호랑이>, <Choice: 사자>, <Choice: 고양이>, <Choice: 개>, <Choice: 코알라>, <Choice: 한국>, <Choice: 미국>, <Choice: 영국>, <Choice: 일본>, <Choice: 중국>, <Choice: 태국>, <Choice: 호랑이>, <Choice: 사자>, <Choice: 고양이>, <Choice: 개>, '...(remaining elements truncated)...']>"
      ]
     },
     "execution_count": 22,
     "metadata": {},
     "output_type": "execute_result"
    }
   ],
   "source": [
    "Choice.objects.all()"
   ]
  },
  {
   "cell_type": "code",
   "execution_count": 23,
   "id": "2a568a5d",
   "metadata": {},
   "outputs": [
    {
     "name": "stdout",
     "output_type": "stream",
     "text": [
      "SELECT \"poll_choice\".\"choice_text\", \"poll_choice\".\"vote\" FROM \"poll_choice\"\n",
      "<QuerySet [{'choice_text': '검정색', 'vote': 23}, {'choice_text': '빨강색', 'vote': 0}, {'choice_text': '파랑색', 'vote': 0}, {'choice_text': '초록색', 'vote': 0}, {'choice_text': '녹색', 'vote': 2}, {'choice_text': '호랑이', 'vote': 0}, {'choice_text': '사자', 'vote': 0}, {'choice_text': '고양이', 'vote': 0}, {'choice_text': '개', 'vote': 0}, {'choice_text': '코알라', 'vote': 0}, {'choice_text': '한국', 'vote': 0}, {'choice_text': '미국', 'vote': 0}, {'choice_text': '영국', 'vote': 7}, {'choice_text': '일본', 'vote': 0}, {'choice_text': '중국', 'vote': 0}, {'choice_text': '태국', 'vote': 0}, {'choice_text': '호랑이', 'vote': 0}, {'choice_text': '사자', 'vote': 0}, {'choice_text': '고양이', 'vote': 0}, {'choice_text': '개', 'vote': 0}, '...(remaining elements truncated)...']>\n",
      "검정색\t23\n",
      "빨강색\t0\n",
      "파랑색\t0\n",
      "초록색\t0\n",
      "녹색\t2\n",
      "호랑이\t0\n",
      "사자\t0\n",
      "고양이\t0\n",
      "개\t0\n",
      "코알라\t0\n",
      "한국\t0\n",
      "미국\t0\n",
      "영국\t7\n",
      "일본\t0\n",
      "중국\t0\n",
      "태국\t0\n",
      "호랑이\t0\n",
      "사자\t0\n",
      "고양이\t0\n",
      "개\t0\n",
      "코알라\t0\n",
      "뱀\t0\n",
      "쥐\t0\n",
      "파이썬\t52\n",
      "R\t0\n",
      "자바\t13\n",
      "C\t1\n",
      "C++\t0\n",
      "스타벅스\t3\n",
      "파스쿠치\t0\n",
      "탐앤탐스\t0\n",
      "투썸플레이스\t0\n",
      "커피빈\t7\n",
      "한식\t120\n",
      "분식\t30\n",
      "양식\t15\n",
      "중식\t0\n",
      "일식\t0\n",
      "기타\t0\n",
      "기타\t0\n",
      "기타\t0\n",
      "기타\t1\n",
      "기타\t10\n",
      "기타\t0\n",
      "기타\t0\n"
     ]
    }
   ],
   "source": [
    "# qs = Choice.objects.all().values('choice_text', 'vote')  # select choice_text, vote  from choice\n",
    "qs = Choice.objects.values('choice_text', 'vote').all()\n",
    "print(qs.query)\n",
    "print(qs)\n",
    "for m in qs:\n",
    "# #     print(m.pk, m.choice_text, m.vote, m.question, type(m.question), sep='\\t')\n",
    "    print(m['choice_text'], m['vote'], sep='\\t')"
   ]
  },
  {
   "cell_type": "code",
   "execution_count": 24,
   "id": "fc438260",
   "metadata": {
    "scrolled": true
   },
   "outputs": [
    {
     "name": "stdout",
     "output_type": "stream",
     "text": [
      "SELECT \"poll_choice\".\"id\", \"poll_choice\".\"choice_text\" FROM \"poll_choice\" WHERE \"poll_choice\".\"id\" < 7 ORDER BY \"poll_choice\".\"choice_text\" DESC, \"poll_choice\".\"id\" ASC\n",
      "4 파랑색\n",
      "5 초록색\n",
      "2 빨강색\n",
      "6 녹색\n",
      "1 검정색\n"
     ]
    }
   ],
   "source": [
    "# qs = Choice.objects.values('id', 'choice_text').all().order_by('choice_text') #choice_text를 기준으로 ASC정렬\n",
    "# qs = Choice.objects.values('id', 'choice_text').all().order_by('-choice_text')  #choice_text를 기준으로 DESC정렬\n",
    "# qs = Choice.objects.values('id', 'choice_text').all().order_by('-choice_text', 'id') #choice DESC, id ASC\n",
    "qs = Choice.objects.values('id', 'choice_text').filter(pk__lt=7).order_by('-choice_text', 'id') \n",
    "print(qs.query)\n",
    "for m in qs:\n",
    "    print(m['id'], m['choice_text'])"
   ]
  },
  {
   "cell_type": "markdown",
   "id": "94b7bc7b",
   "metadata": {},
   "source": [
    "select 컬럼명 -values()\n",
    "from   테이블명 - 모델클래스명\n",
    "where  조건  - filter, exclude, get 메소드\n",
    "\n",
    "order by 정렬조건  - order_by()메소드"
   ]
  },
  {
   "cell_type": "markdown",
   "id": "9f8cda28",
   "metadata": {},
   "source": [
    "## 집계함수"
   ]
  },
  {
   "cell_type": "code",
   "execution_count": 25,
   "id": "2d047a41",
   "metadata": {},
   "outputs": [
    {
     "name": "stdout",
     "output_type": "stream",
     "text": [
      "45 45\n"
     ]
    }
   ],
   "source": [
    "# 조회한 데이터에 개수 조회\n",
    "# QuerySet.count(), len(QuerySet)\n",
    "qs = Choice.objects.all()\n",
    "print(qs.count(), len(qs))"
   ]
  },
  {
   "cell_type": "markdown",
   "id": "6e2d2c21",
   "metadata": {},
   "source": [
    "- 전체 데이터셋 기준 집계\n",
    "    - aggregate(집계함수(), 집계함수()...)\n",
    "- Groupby 집계\n",
    "    - values(\"나눌기준컬럼명\", ..).annotate(집계함수(), ..)\n",
    "- 결과를 dictionary에 넣어서 반환"
   ]
  },
  {
   "cell_type": "code",
   "execution_count": 26,
   "id": "7154eef7",
   "metadata": {},
   "outputs": [],
   "source": [
    "#집계함수들 import\n",
    "from django.db.models import Count, Sum, Avg, Min, Max, StdDev, Variance"
   ]
  },
  {
   "cell_type": "code",
   "execution_count": 29,
   "id": "60d06c55",
   "metadata": {},
   "outputs": [
    {
     "data": {
      "text/plain": [
       "{'vote__count': 45,\n",
       " 'vote__sum': 284,\n",
       " 'vote__avg': 6.311111111111111,\n",
       " 'vote__min': 0,\n",
       " 'vote__max': 120,\n",
       " 'vote__stddev': 19.63423565806785,\n",
       " 'vote__variance': 385.50320987654317}"
      ]
     },
     "execution_count": 29,
     "metadata": {},
     "output_type": "execute_result"
    }
   ],
   "source": [
    "# 전체 데이터셋 기준 집계\n",
    "# select count(vote)\n",
    "result = Choice.objects.aggregate(Count('vote'), Sum('vote'),\n",
    "                                  Avg('vote'), Min('vote'), Max('vote'), \n",
    "                                  StdDev('vote'), Variance('vote'))\n",
    "result"
   ]
  },
  {
   "cell_type": "code",
   "execution_count": 31,
   "id": "6910fce9",
   "metadata": {},
   "outputs": [
    {
     "data": {
      "text/plain": [
       "6.311111111111111"
      ]
     },
     "execution_count": 31,
     "metadata": {},
     "output_type": "execute_result"
    }
   ],
   "source": [
    "# 결과 key: field이름__집계이름\n",
    "# result.keys()\n",
    "result['vote__avg']"
   ]
  },
  {
   "cell_type": "code",
   "execution_count": 32,
   "id": "05e1b8d1",
   "metadata": {},
   "outputs": [
    {
     "data": {
      "text/plain": [
       "{'pub_date__min': datetime.datetime(2021, 10, 5, 8, 17, 22, 862005, tzinfo=<UTC>),\n",
       " 'pub_date__max': datetime.datetime(2021, 10, 5, 8, 47, 3, 943094, tzinfo=<UTC>)}"
      ]
     },
     "execution_count": 32,
     "metadata": {},
     "output_type": "execute_result"
    }
   ],
   "source": [
    "# select min(pub_date)\n",
    "# datetime, data, time 타입: min-과거, max-미래\n",
    "result2 = Question.objects.aggregate(Min('pub_date'), Max('pub_date'))\n",
    "result2"
   ]
  },
  {
   "cell_type": "code",
   "execution_count": 37,
   "id": "28269967",
   "metadata": {},
   "outputs": [
    {
     "name": "stdout",
     "output_type": "stream",
     "text": [
      "<class 'datetime.datetime'>\n"
     ]
    },
    {
     "data": {
      "text/plain": [
       "(2021, 10, 5, 8, 17, 22)"
      ]
     },
     "execution_count": 37,
     "metadata": {},
     "output_type": "execute_result"
    }
   ],
   "source": [
    "min_date = result2['pub_date__min']\n",
    "print(type(min_date))\n",
    "min_date.year, min_date.month, min_date.day, min_date.hour, min_date.minute, min_date.second"
   ]
  },
  {
   "cell_type": "code",
   "execution_count": 42,
   "id": "62f72f66",
   "metadata": {},
   "outputs": [
    {
     "name": "stdout",
     "output_type": "stream",
     "text": [
      "2021년  10월  05일 08:17:22 <class 'str'>\n"
     ]
    }
   ],
   "source": [
    "#datetime.strftime(\"형식문자\") %Y:연도, %m:월, %d:일, %H:시간(24), %M:분, %S:초 => 원하는 형식의 문자열로 변환\n",
    "r = min_date.strftime(\"%Y년  %m월  %d일 %H:%M:%S\")\n",
    "print(r, type(r))"
   ]
  },
  {
   "cell_type": "code",
   "execution_count": 48,
   "id": "949c6db6",
   "metadata": {},
   "outputs": [
    {
     "name": "stdout",
     "output_type": "stream",
     "text": [
      "{'question': 1, 'vote__sum': 25, 'vote__avg': 4.166666666666667, 'choice_text__max': '파랑색'}\n",
      "{'question': 2, 'vote__sum': 0, 'vote__avg': 0.0, 'choice_text__max': '호랑이'}\n",
      "{'question': 3, 'vote__sum': 17, 'vote__avg': 2.4285714285714284, 'choice_text__max': '한국'}\n",
      "{'question': 4, 'vote__sum': 1, 'vote__avg': 0.125, 'choice_text__max': '호랑이'}\n",
      "{'question': 6, 'vote__sum': 66, 'vote__avg': 11.0, 'choice_text__max': '파이썬'}\n",
      "{'question': 7, 'vote__sum': 10, 'vote__avg': 1.6666666666666667, 'choice_text__max': '파스쿠치'}\n",
      "{'question': 8, 'vote__sum': 165, 'vote__avg': 27.5, 'choice_text__max': '한식'}\n"
     ]
    }
   ],
   "source": [
    "# groupby\n",
    "# select sum(vote),... from choice groupby question\n",
    "result3 = Choice.objects.values('question').annotate(Sum(\"vote\"), Avg('vote'), Max('choice_text')) #문자열 min: a max: z\n",
    "for d in result3:\n",
    "    print(d)"
   ]
  },
  {
   "cell_type": "code",
   "execution_count": 49,
   "id": "71be8d25",
   "metadata": {},
   "outputs": [
    {
     "name": "stdout",
     "output_type": "stream",
     "text": [
      "{'question': 6, 'vote__sum': 66, 'vote__avg': 11.0, 'choice_text__max': '파이썬'}\n",
      "{'question': 8, 'vote__sum': 165, 'vote__avg': 27.5, 'choice_text__max': '한식'}\n"
     ]
    }
   ],
   "source": [
    "# having절 처리 함수는 없다. \n",
    "# select sum(vote),... from choice groupby question having sum(vote)>50\n",
    "for d in result3:\n",
    "    if d['vote__sum'] > 50:  #having절 조건\n",
    "        print(d)"
   ]
  },
  {
   "cell_type": "markdown",
   "id": "8e5c24aa",
   "metadata": {},
   "source": [
    "## 테이블간의 관계\n",
    "\n",
    "### JOIN 을 이용한 조회\n",
    "\n",
    "#### 자식테이블에서 부모테이블값을 조회\n",
    "\n",
    "- Question: 부모\n",
    "- Choice: 자식"
   ]
  },
  {
   "cell_type": "code",
   "execution_count": 55,
   "id": "4977f676",
   "metadata": {},
   "outputs": [
    {
     "data": {
      "text/plain": [
       "('검정색', 23)"
      ]
     },
     "execution_count": 55,
     "metadata": {},
     "output_type": "execute_result"
    }
   ],
   "source": [
    "c = Choice.objects.get(pk=1)\n",
    "type(c), c\n",
    "c.choice_text, c.vote"
   ]
  },
  {
   "cell_type": "code",
   "execution_count": 53,
   "id": "57534b5c",
   "metadata": {},
   "outputs": [
    {
     "data": {
      "text/plain": [
       "(poll.models.Question,\n",
       " 1,\n",
       " '좋아하는 색깔은 무엇입니까?',\n",
       " datetime.datetime(2021, 10, 5, 8, 17, 22, 862005, tzinfo=<UTC>))"
      ]
     },
     "execution_count": 53,
     "metadata": {},
     "output_type": "execute_result"
    }
   ],
   "source": [
    "# pk 가 1인 보기의 질문?\n",
    "q = c.question\n",
    "type(q), q.pk, q.question_text, q.pub_date"
   ]
  },
  {
   "cell_type": "code",
   "execution_count": 57,
   "id": "3857e9f1",
   "metadata": {},
   "outputs": [
    {
     "name": "stdout",
     "output_type": "stream",
     "text": [
      "빨강색 0 좋아하는 색깔은 무엇입니까?\n"
     ]
    }
   ],
   "source": [
    "# pk 2인 choice(보기)의 보기내용, vote, 질문\n",
    "try:\n",
    "    id = 2\n",
    "    result_choice = Choice.objects.get(pk=id)\n",
    "    print(result_choice.choice_text, result_choice.vote, result_choice.question.question_text)\n",
    "#     result_choice.question: Question객체\n",
    "except:   \n",
    "    print(f\"{id}는 없는 보기입니다.\")"
   ]
  },
  {
   "cell_type": "code",
   "execution_count": 62,
   "id": "7d2bd4f2",
   "metadata": {},
   "outputs": [
    {
     "name": "stdout",
     "output_type": "stream",
     "text": [
      "2\t빨강색\t0\t좋아하는 색깔은 무엇입니까?\n",
      "4\t파랑색\t0\t좋아하는 색깔은 무엇입니까?\n",
      "5\t초록색\t0\t좋아하는 색깔은 무엇입니까?\n"
     ]
    }
   ],
   "source": [
    "# pk 2 ~ 5 인 보기의 text, vote, 질문\n",
    "result = Choice.objects.filter(pk__range=[2,5])\n",
    "for choice in result:\n",
    "    print(choice.pk, choice.choice_text, choice.vote, choice.question.question_text, sep='\\t')"
   ]
  },
  {
   "cell_type": "markdown",
   "id": "325ef6c2",
   "metadata": {},
   "source": [
    "### 부모테이블에서 자식테이블값 조회"
   ]
  },
  {
   "cell_type": "code",
   "execution_count": 65,
   "id": "57e35589",
   "metadata": {},
   "outputs": [
    {
     "name": "stdout",
     "output_type": "stream",
     "text": [
      "<class 'poll.models.Question'> 좋아하는 색깔은 무엇입니까?\n",
      "1 좋아하는 색깔은 무엇입니까? 2021-10-05 08:17:22.862005+00:00\n"
     ]
    }
   ],
   "source": [
    "q = Question.objects.get(pk=1)\n",
    "print(type(q), q)\n",
    "print(q.pk, q.question_text, q.pub_date)"
   ]
  },
  {
   "cell_type": "code",
   "execution_count": 69,
   "id": "f01cbf26",
   "metadata": {},
   "outputs": [
    {
     "data": {
      "text/plain": [
       "django.db.models.query.QuerySet"
      ]
     },
     "execution_count": 69,
     "metadata": {},
     "output_type": "execute_result"
    }
   ],
   "source": [
    "# 조회한 Question(부모)의 Choice(자식)들 조회\n",
    "c_qs = q.choice_set.all()\n",
    "type(c_qs)"
   ]
  },
  {
   "cell_type": "code",
   "execution_count": 71,
   "id": "7f9b9832",
   "metadata": {},
   "outputs": [
    {
     "name": "stdout",
     "output_type": "stream",
     "text": [
      "1\t검정색\t23\n",
      "2\t빨강색\t0\n",
      "4\t파랑색\t0\n",
      "5\t초록색\t0\n",
      "6\t녹색\t2\n",
      "46\t기타\t0\n"
     ]
    }
   ],
   "source": [
    "for c in c_qs:\n",
    "    print(c.pk, c.choice_text, c.vote, sep='\\t')"
   ]
  },
  {
   "cell_type": "code",
   "execution_count": 75,
   "id": "9c18e789",
   "metadata": {
    "scrolled": true
   },
   "outputs": [
    {
     "name": "stdout",
     "output_type": "stream",
     "text": [
      "1 좋아하는 색깔은 무엇입니까?\n",
      "\t 1 검정색 23\n",
      "\t 2 빨강색 0\n",
      "\t 4 파랑색 0\n",
      "\t 5 초록색 0\n",
      "\t 6 녹색 2\n",
      "\t 46 기타 0\n",
      "2 좋아하는 동물은 무엇입니까?\n",
      "\t 7 호랑이 0\n",
      "\t 8 사자 0\n",
      "\t 9 고양이 0\n",
      "\t 10 개 0\n",
      "\t 11 코알라 0\n",
      "\t 45 기타 0\n",
      "3 가고 싶은 나라를 선택하세요.\n",
      "\t 12 한국 0\n",
      "\t 13 미국 0\n",
      "\t 14 영국 7\n",
      "\t 15 일본 0\n",
      "\t 16 중국 0\n",
      "\t 17 태국 0\n",
      "\t 44 기타 10\n",
      "4 싫어하는 동물은 무엇입니까?\n",
      "\t 18 호랑이 0\n",
      "\t 19 사자 0\n",
      "\t 20 고양이 0\n",
      "\t 21 개 0\n",
      "\t 22 코알라 0\n",
      "\t 23 뱀 0\n",
      "\t 24 쥐 0\n",
      "\t 43 기타 1\n"
     ]
    }
   ],
   "source": [
    "# pk가 1~4 인 질문의  질문 id, 질문내용, 보기의 id, 보기내용 출력\n",
    "result = Question.objects.filter(pk__range=[1,4])\n",
    "for q in result:\n",
    "    print(q.pk, q.question_text)\n",
    "    choice_qs = q.choice_set.all()\n",
    "    for choice in choice_qs:\n",
    "        print(\"\\t\", choice.pk, choice.choice_text, choice.vote)"
   ]
  },
  {
   "cell_type": "markdown",
   "id": "4b3f9854",
   "metadata": {},
   "source": [
    "# insert/update/delete\n",
    "- insert/update\n",
    "    - 모델객체.save()\n",
    "    - 모델객체가 insert/update할 데이터를 가지고있다.\n",
    "- delete\n",
    "    - 모델객체.delete()\n",
    "    - 모델객체가 삭제할 데이터의 pk를 가지고 있다."
   ]
  },
  {
   "cell_type": "code",
   "execution_count": 77,
   "id": "f52f0d38",
   "metadata": {
    "scrolled": true
   },
   "outputs": [
    {
     "name": "stdout",
     "output_type": "stream",
     "text": [
      "1\t좋아하는 색깔은 무엇입니까?\t2021-10-05 08:17:22.862005+00:00\n",
      "2\t좋아하는 동물은 무엇입니까?\t2021-10-05 08:17:44.509702+00:00\n",
      "3\t가고 싶은 나라를 선택하세요.\t2021-10-05 08:17:54.306889+00:00\n",
      "4\t싫어하는 동물은 무엇입니까?\t2021-10-05 08:18:04.281262+00:00\n",
      "6\t어떤 프로그램 언어를 사용하십니까?\t2021-10-05 08:42:10.877559+00:00\n",
      "7\t선호하는 카페 브랜드는 어디인가요?\t2021-10-05 08:42:22.745516+00:00\n",
      "8\t선호하는 음식종류는 무엇입니까?\t2021-10-05 08:47:03.943094+00:00\n"
     ]
    }
   ],
   "source": [
    "def get_question_list():\n",
    "    qs = Question.objects.all()\n",
    "    for q in qs:\n",
    "        print(q.pk, q.question_text, q.pub_date, sep='\\t')\n",
    "        \n",
    "get_question_list()"
   ]
  },
  {
   "cell_type": "code",
   "execution_count": 80,
   "id": "4ee79bf2",
   "metadata": {},
   "outputs": [
    {
     "name": "stdout",
     "output_type": "stream",
     "text": [
      "None 새로운 질문 2021-10-06 16:07:10.469218\n"
     ]
    }
   ],
   "source": [
    "from datetime import datetime\n",
    "# insert\n",
    "# insert할 데이터를 가진 Model객체를 생성. 객체.save()\n",
    "new_q = Question(question_text=\"새로운 질문\", pub_date=datetime.now()) #pk(id)는 자동증가이므로 넣지 않음.\n",
    "print(new_q.pk, new_q.question_text, new_q.pub_date)\n",
    "new_q.save()"
   ]
  },
  {
   "cell_type": "code",
   "execution_count": 82,
   "id": "11b857bc",
   "metadata": {},
   "outputs": [
    {
     "name": "stdout",
     "output_type": "stream",
     "text": [
      "1\t좋아하는 색깔은 무엇입니까?\t2021-10-05 08:17:22.862005+00:00\n",
      "2\t좋아하는 동물은 무엇입니까?\t2021-10-05 08:17:44.509702+00:00\n",
      "3\t가고 싶은 나라를 선택하세요.\t2021-10-05 08:17:54.306889+00:00\n",
      "4\t싫어하는 동물은 무엇입니까?\t2021-10-05 08:18:04.281262+00:00\n",
      "6\t어떤 프로그램 언어를 사용하십니까?\t2021-10-05 08:42:10.877559+00:00\n",
      "7\t선호하는 카페 브랜드는 어디인가요?\t2021-10-05 08:42:22.745516+00:00\n",
      "8\t선호하는 음식종류는 무엇입니까?\t2021-10-05 08:47:03.943094+00:00\n",
      "9\t새로운 질문\t2021-10-06 07:07:10.496109+00:00\n"
     ]
    }
   ],
   "source": [
    "get_question_list()"
   ]
  },
  {
   "cell_type": "code",
   "execution_count": 83,
   "id": "711c14a4",
   "metadata": {},
   "outputs": [
    {
     "name": "stderr",
     "output_type": "stream",
     "text": [
      "C:\\Users\\Playdata\\anaconda3\\envs\\django\\lib\\site-packages\\django\\db\\models\\fields\\__init__.py:1416: RuntimeWarning: DateTimeField Question.pub_date received a naive datetime (2021-10-06 16:13:10.922920) while time zone support is active.\n",
      "  warnings.warn(\"DateTimeField %s received a naive datetime (%s)\"\n"
     ]
    }
   ],
   "source": [
    "# update\n",
    "# update할 데이터를 가진 Model객체를 생성. 객체.save()\n",
    "# pk 는 테이블에 있는 값을 가지고 있어야 한다. 변경되지 않을 값은 원래값을 그대로 가지고 있어야 한다.\n",
    "update_q = Question(pk=9, question_text=\"새로운 질문\", pub_date=datetime.now())\n",
    "# id가 9인 질문의 pub_date값을 현재시간으로 update\n",
    "# update question set pub_date=sysdate  where id=9\n",
    "update_q.save()"
   ]
  },
  {
   "cell_type": "code",
   "execution_count": 84,
   "id": "6eba5d08",
   "metadata": {},
   "outputs": [
    {
     "name": "stdout",
     "output_type": "stream",
     "text": [
      "1\t좋아하는 색깔은 무엇입니까?\t2021-10-05 08:17:22.862005+00:00\n",
      "2\t좋아하는 동물은 무엇입니까?\t2021-10-05 08:17:44.509702+00:00\n",
      "3\t가고 싶은 나라를 선택하세요.\t2021-10-05 08:17:54.306889+00:00\n",
      "4\t싫어하는 동물은 무엇입니까?\t2021-10-05 08:18:04.281262+00:00\n",
      "6\t어떤 프로그램 언어를 사용하십니까?\t2021-10-05 08:42:10.877559+00:00\n",
      "7\t선호하는 카페 브랜드는 어디인가요?\t2021-10-05 08:42:22.745516+00:00\n",
      "8\t선호하는 음식종류는 무엇입니까?\t2021-10-05 08:47:03.943094+00:00\n",
      "9\t새로운 질문\t2021-10-06 07:13:10.922920+00:00\n"
     ]
    }
   ],
   "source": [
    "get_question_list()"
   ]
  },
  {
   "cell_type": "code",
   "execution_count": 88,
   "id": "16842da2",
   "metadata": {},
   "outputs": [],
   "source": [
    "q = Question.objects.get(pk=9)\n",
    "q.question_text = '좋아하는 꽃은 무엇입니까?'\n",
    "# q.pk, q.question_text, q.pub_date\n",
    "q.save()"
   ]
  },
  {
   "cell_type": "code",
   "execution_count": 89,
   "id": "15d90318",
   "metadata": {},
   "outputs": [
    {
     "name": "stdout",
     "output_type": "stream",
     "text": [
      "1\t좋아하는 색깔은 무엇입니까?\t2021-10-05 08:17:22.862005+00:00\n",
      "2\t좋아하는 동물은 무엇입니까?\t2021-10-05 08:17:44.509702+00:00\n",
      "3\t가고 싶은 나라를 선택하세요.\t2021-10-05 08:17:54.306889+00:00\n",
      "4\t싫어하는 동물은 무엇입니까?\t2021-10-05 08:18:04.281262+00:00\n",
      "6\t어떤 프로그램 언어를 사용하십니까?\t2021-10-05 08:42:10.877559+00:00\n",
      "7\t선호하는 카페 브랜드는 어디인가요?\t2021-10-05 08:42:22.745516+00:00\n",
      "8\t선호하는 음식종류는 무엇입니까?\t2021-10-05 08:47:03.943094+00:00\n",
      "9\t좋아하는 꽃은 무엇입니까?\t2021-10-06 07:13:10.922920+00:00\n"
     ]
    }
   ],
   "source": [
    "get_question_list()"
   ]
  },
  {
   "cell_type": "code",
   "execution_count": 92,
   "id": "80187fc1",
   "metadata": {},
   "outputs": [
    {
     "name": "stdout",
     "output_type": "stream",
     "text": [
      "9  None\n"
     ]
    },
    {
     "data": {
      "text/plain": [
       "(1, {'poll.Question': 1})"
      ]
     },
     "execution_count": 92,
     "metadata": {},
     "output_type": "execute_result"
    }
   ],
   "source": [
    "#delete\n",
    "# 삭제할 pk값을 가진 model을 생성. model.delete()\n",
    "delete_q = Question(pk=9)\n",
    "print(delete_q.pk, delete_q.question_text, delete_q.pub_date)\n",
    "delete_q.delete()"
   ]
  },
  {
   "cell_type": "code",
   "execution_count": 93,
   "id": "ac475597",
   "metadata": {},
   "outputs": [
    {
     "name": "stdout",
     "output_type": "stream",
     "text": [
      "1\t좋아하는 색깔은 무엇입니까?\t2021-10-05 08:17:22.862005+00:00\n",
      "2\t좋아하는 동물은 무엇입니까?\t2021-10-05 08:17:44.509702+00:00\n",
      "3\t가고 싶은 나라를 선택하세요.\t2021-10-05 08:17:54.306889+00:00\n",
      "4\t싫어하는 동물은 무엇입니까?\t2021-10-05 08:18:04.281262+00:00\n",
      "6\t어떤 프로그램 언어를 사용하십니까?\t2021-10-05 08:42:10.877559+00:00\n",
      "7\t선호하는 카페 브랜드는 어디인가요?\t2021-10-05 08:42:22.745516+00:00\n",
      "8\t선호하는 음식종류는 무엇입니까?\t2021-10-05 08:47:03.943094+00:00\n"
     ]
    }
   ],
   "source": [
    "get_question_list()"
   ]
  },
  {
   "cell_type": "code",
   "execution_count": 94,
   "id": "7709d887",
   "metadata": {},
   "outputs": [
    {
     "data": {
      "text/plain": [
       "(1,\n",
       " '좋아하는 색깔은 무엇입니까?',\n",
       " datetime.datetime(2021, 10, 5, 8, 17, 22, 862005, tzinfo=<UTC>))"
      ]
     },
     "execution_count": 94,
     "metadata": {},
     "output_type": "execute_result"
    }
   ],
   "source": [
    "delete_q2 = Question.objects.get(pk=1)\n",
    "delete_q2.pk, delete_q2.question_text, delete_q2.pub_date"
   ]
  },
  {
   "cell_type": "code",
   "execution_count": 95,
   "id": "34579a73",
   "metadata": {},
   "outputs": [
    {
     "data": {
      "text/plain": [
       "(7, {'poll.Choice': 6, 'poll.Question': 1})"
      ]
     },
     "execution_count": 95,
     "metadata": {},
     "output_type": "execute_result"
    }
   ],
   "source": [
    "delete_q2.delete() \n",
    "# (7: 총delete된데이터 수, {'poll.Choice':Choice 테이블에서 삭제된 데이터수, \"poll.Question\":Question 테이블에서 삭제된 데이터수})"
   ]
  },
  {
   "cell_type": "code",
   "execution_count": 96,
   "id": "b1a2d225",
   "metadata": {
    "scrolled": true
   },
   "outputs": [
    {
     "name": "stdout",
     "output_type": "stream",
     "text": [
      "2\t좋아하는 동물은 무엇입니까?\t2021-10-05 08:17:44.509702+00:00\n",
      "3\t가고 싶은 나라를 선택하세요.\t2021-10-05 08:17:54.306889+00:00\n",
      "4\t싫어하는 동물은 무엇입니까?\t2021-10-05 08:18:04.281262+00:00\n",
      "6\t어떤 프로그램 언어를 사용하십니까?\t2021-10-05 08:42:10.877559+00:00\n",
      "7\t선호하는 카페 브랜드는 어디인가요?\t2021-10-05 08:42:22.745516+00:00\n",
      "8\t선호하는 음식종류는 무엇입니까?\t2021-10-05 08:47:03.943094+00:00\n"
     ]
    }
   ],
   "source": [
    "get_question_list()"
   ]
  },
  {
   "cell_type": "code",
   "execution_count": 101,
   "id": "a27c178e",
   "metadata": {},
   "outputs": [
    {
     "data": {
      "text/plain": [
       "<QuerySet []>"
      ]
     },
     "execution_count": 101,
     "metadata": {},
     "output_type": "execute_result"
    }
   ],
   "source": [
    "Choice.objects.filter(question=1)"
   ]
  },
  {
   "cell_type": "markdown",
   "id": "92d78235",
   "metadata": {},
   "source": [
    "# 직접 SQL문을 작성해서 실행\n",
    "\n",
    "- 모델.objects.raw(\"select문\")\n",
    "    - select 문만 가능."
   ]
  },
  {
   "cell_type": "code",
   "execution_count": 106,
   "id": "815a570f",
   "metadata": {
    "collapsed": true
   },
   "outputs": [
    {
     "name": "stdout",
     "output_type": "stream",
     "text": [
      "7 호랑이 0\n",
      "8 사자 0\n",
      "9 고양이 0\n",
      "10 개 0\n",
      "11 코알라 0\n",
      "12 한국 0\n",
      "13 미국 0\n",
      "14 영국 7\n",
      "15 일본 0\n",
      "16 중국 0\n",
      "17 태국 0\n",
      "18 호랑이 0\n",
      "19 사자 0\n",
      "20 고양이 0\n",
      "21 개 0\n",
      "22 코알라 0\n",
      "23 뱀 0\n",
      "24 쥐 0\n",
      "25 파이썬 52\n",
      "26 R 0\n",
      "27 자바 13\n",
      "28 C 1\n",
      "29 C++ 0\n",
      "30 스타벅스 3\n",
      "31 파스쿠치 0\n",
      "32 탐앤탐스 0\n",
      "33 투썸플레이스 0\n",
      "34 커피빈 7\n",
      "35 한식 120\n",
      "36 분식 30\n",
      "37 양식 15\n",
      "38 중식 0\n",
      "39 일식 0\n",
      "40 기타 0\n",
      "41 기타 0\n",
      "42 기타 0\n",
      "43 기타 1\n",
      "44 기타 10\n",
      "45 기타 0\n"
     ]
    }
   ],
   "source": [
    "sql = 'SELECT * FROM poll_choice'\n",
    "rq = Choice.objects.raw(sql)  #select문을 실행하고 그 결과를 Choice객체에 담아준다.\n",
    "for d in rq:\n",
    "    print(d.pk, d.choice_text, d.vote)"
   ]
  },
  {
   "cell_type": "code",
   "execution_count": null,
   "id": "dd6a9a44",
   "metadata": {},
   "outputs": [],
   "source": []
  },
  {
   "cell_type": "code",
   "execution_count": null,
   "id": "caf419f1",
   "metadata": {},
   "outputs": [],
   "source": []
  },
  {
   "cell_type": "code",
   "execution_count": null,
   "id": "7a6892f9",
   "metadata": {},
   "outputs": [],
   "source": []
  },
  {
   "cell_type": "code",
   "execution_count": null,
   "id": "b6621656",
   "metadata": {},
   "outputs": [],
   "source": []
  },
  {
   "cell_type": "code",
   "execution_count": null,
   "id": "72459a1c",
   "metadata": {},
   "outputs": [],
   "source": []
  },
  {
   "cell_type": "code",
   "execution_count": null,
   "id": "33942d8e",
   "metadata": {},
   "outputs": [],
   "source": []
  }
 ],
 "metadata": {
  "kernelspec": {
   "display_name": "Python 3 (ipykernel)",
   "language": "python",
   "name": "python3"
  },
  "language_info": {
   "codemirror_mode": {
    "name": "ipython",
    "version": 3
   },
   "file_extension": ".py",
   "mimetype": "text/x-python",
   "name": "python",
   "nbconvert_exporter": "python",
   "pygments_lexer": "ipython3",
   "version": "3.8.11"
  }
 },
 "nbformat": 4,
 "nbformat_minor": 5
}
